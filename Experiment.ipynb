{
 "cells": [
  {
   "cell_type": "code",
   "execution_count": 9,
   "metadata": {},
   "outputs": [],
   "source": [
    "import cv2 as cv\n",
    "import numpy as np\n",
    "import Functions as f\n",
    "from sklearn.neighbors import KNeighborsClassifier\n",
    "from matplotlib import pyplot as plt\n",
    "%matplotlib inline"
   ]
  },
  {
   "cell_type": "code",
   "execution_count": 5,
   "metadata": {},
   "outputs": [],
   "source": [
    "img = cv.imread(\"Puzle_color.jpg\", cv.IMREAD_GRAYSCALE)"
   ]
  },
  {
   "cell_type": "markdown",
   "metadata": {},
   "source": [
    "1. Puzzles of the same shape are assigned to the same class."
   ]
  },
  {
   "cell_type": "code",
   "execution_count": 11,
   "metadata": {},
   "outputs": [],
   "source": [
    "y0 = np.array([2,4,1,2,5,2,5,6,6,7,5,8,6,1,9,5,6,3,8,8])\n",
    "y45 = np.array([2,1,5,4,2,8,2,6,6,6,1,5,5,8,9,6,7,5,8,3]) \n",
    "y90 = np.array([2,5,8,6,1,8,6,1,2,4,8,9,5,6,2,3,5,6,5,7])\n",
    "y180 = np.array([8,3,8,6,5,9,1,6,8,5,7,6,6,2,5,5,2,1,2,4])"
   ]
  },
  {
   "cell_type": "code",
   "execution_count": 12,
   "metadata": {},
   "outputs": [],
   "source": [
    "target_list1 = [y0, y45, y180, y90]\n",
    "angle_list1 = [\n",
    "    np.array([45, 180, 90]),\n",
    "    np.array([0.86, 1, 0.84]),\n",
    "    np.array([1, 2, 3])\n",
    "]"
   ]
  },
  {
   "cell_type": "code",
   "execution_count": 28,
   "metadata": {},
   "outputs": [],
   "source": [
    "X_train1, y_train1, m1 = f.augmentation_img(img, \"MONO_ROT\", target_list1, angle_list1)"
   ]
  },
  {
   "cell_type": "markdown",
   "metadata": {},
   "source": [
    "2. Reading second foto to increace X_train"
   ]
  },
  {
   "cell_type": "code",
   "execution_count": 29,
   "metadata": {},
   "outputs": [],
   "source": [
    "img2 = cv.imread(\"Pm1_3.jpg\", cv.IMREAD_GRAYSCALE)"
   ]
  },
  {
   "cell_type": "code",
   "execution_count": 30,
   "metadata": {},
   "outputs": [],
   "source": [
    "angle_list2 = [np.array([])]\n",
    "y0_2 = np.array([5,6,6,5,6,5,5,6,6,5])\n",
    "target_list2 = [y0_2]"
   ]
  },
  {
   "cell_type": "code",
   "execution_count": 31,
   "metadata": {},
   "outputs": [],
   "source": [
    "X_train2, y_train2, m2 = f.augmentation_img(img2, \"MY_BLUE3\",target_list2, angle_list2)"
   ]
  },
  {
   "cell_type": "markdown",
   "metadata": {},
   "source": [
    "3. Merging 2 X_trains "
   ]
  },
  {
   "cell_type": "code",
   "execution_count": 33,
   "metadata": {},
   "outputs": [],
   "source": [
    "X_train, y_train = f.Merge_train(X_train1, y_train1, X_train2, y_train2)"
   ]
  },
  {
   "cell_type": "markdown",
   "metadata": {},
   "source": [
    "4. Creating X_test from image"
   ]
  },
  {
   "cell_type": "code",
   "execution_count": 34,
   "metadata": {},
   "outputs": [],
   "source": [
    "test_img = cv.imread(\"Red_3.jpg\", cv.IMREAD_GRAYSCALE)"
   ]
  },
  {
   "cell_type": "code",
   "execution_count": 35,
   "metadata": {},
   "outputs": [],
   "source": [
    "X_test = f.create_X_test(test_img, \"RED\", X_train.shape[1])"
   ]
  },
  {
   "cell_type": "markdown",
   "metadata": {},
   "source": [
    "5. Validating to find best parameters"
   ]
  },
  {
   "cell_type": "code",
   "execution_count": 36,
   "metadata": {},
   "outputs": [],
   "source": [
    "y_test_red3 = np.array([1,2,3,4,5,6,5,7,5,5,6,8])"
   ]
  },
  {
   "cell_type": "code",
   "execution_count": 37,
   "metadata": {},
   "outputs": [],
   "source": [
    "neighbours_array = np.arange(1,10)\n",
    "accuracy_list1 = []\n",
    "accuracy_list2 = []\n",
    "accuracy_list3 = []\n",
    "accuracy_list4 = []\n",
    "y_test_here = y_test_red3\n",
    "X_test_here = X_test\n",
    "\n",
    "for k in neighbours_array:\n",
    "    clf1 = KNeighborsClassifier(n_neighbors=k, weights='uniform', metric='euclidean', n_jobs=-1)\n",
    "    clf2 = KNeighborsClassifier(n_neighbors=k, weights='distance', metric='euclidean', n_jobs=-1)\n",
    "    clf3 = KNeighborsClassifier(n_neighbors=k, weights='uniform', metric='cosine', n_jobs=-1)\n",
    "    clf4 = KNeighborsClassifier(n_neighbors=k, weights='distance', metric='cosine', n_jobs=-1)\n",
    "    \n",
    "    clf1.fit(X_train, y_train)\n",
    "    clf2.fit(X_train, y_train)\n",
    "    clf3.fit(X_train, y_train)\n",
    "    clf4.fit(X_train, y_train)\n",
    "    \n",
    "    pred1 = clf1.predict(X_test_here)\n",
    "    pred2 = clf2.predict(X_test_here)\n",
    "    pred3 = clf3.predict(X_test_here)\n",
    "    pred4 = clf4.predict(X_test_here)\n",
    "    \n",
    "    accuracy_list1.append(np.sum(pred1 == y_test_here) / pred1.size)\n",
    "    accuracy_list2.append(np.sum(pred2 == y_test_here) / pred2.size)\n",
    "    accuracy_list3.append(np.sum(pred3 == y_test_here) / pred3.size)\n",
    "    accuracy_list4.append(np.sum(pred4 == y_test_here) / pred4.size)"
   ]
  },
  {
   "cell_type": "code",
   "execution_count": 40,
   "metadata": {},
   "outputs": [
    {
     "data": {
      "image/png": "[encoded data removed]",
      "text/plain": [
       "<Figure size 576x360 with 1 Axes>"
      ]
     },
     "metadata": {
      "needs_background": "light"
     },
     "output_type": "display_data"
    }
   ],
   "source": [
    "fig = plt.figure(figsize=(8, 5))\n",
    "plt.plot(neighbours_array, accuracy_list1, color=\"g\", label='uniform Euclid', marker='o')\n",
    "plt.plot(neighbours_array, accuracy_list2, color=\"r\", label='weightned Euclid')\n",
    "plt.plot(neighbours_array, accuracy_list3, color=\"b\", label='uniform Cosin', marker='x')\n",
    "plt.plot(neighbours_array, accuracy_list4, color=\"y\", label='weightned Cosin')\n",
    "plt.grid()\n",
    "plt.legend()\n",
    "\n",
    "plt.title(\"Accuracy for Red_3\")\n",
    "plt.xlabel(\"k_neighbours\", fontsize=13)\n",
    "plt.ylabel(\"Accuracy\", fontsize=12);"
   ]
  },
  {
   "cell_type": "markdown",
   "metadata": {},
   "source": [
    "6. Predicting codes for puzzles and view it"
   ]
  },
  {
   "cell_type": "code",
   "execution_count": 41,
   "metadata": {},
   "outputs": [],
   "source": [
    "clf = KNeighborsClassifier(n_neighbors=3, weights='distance', metric='cosine', n_jobs=-1)"
   ]
  },
  {
   "cell_type": "code",
   "execution_count": 42,
   "metadata": {},
   "outputs": [
    {
     "data": {
      "text/plain": [
       "KNeighborsClassifier(algorithm='auto', leaf_size=30, metric='cosine',\n",
       "                     metric_params=None, n_jobs=-1, n_neighbors=3, p=2,\n",
       "                     weights='distance')"
      ]
     },
     "execution_count": 42,
     "metadata": {},
     "output_type": "execute_result"
    }
   ],
   "source": [
    "clf.fit(X_train, y_train)"
   ]
  },
  {
   "cell_type": "markdown",
   "metadata": {},
   "source": [
    "7. Download the predicted image or view it right here"
   ]
  },
  {
   "cell_type": "code",
   "execution_count": null,
   "metadata": {},
   "outputs": [],
   "source": [
    "f.view_code(test_img, \"RED\", True, clf, X_test)"
   ]
  },
  {
   "cell_type": "code",
   "execution_count": 47,
   "metadata": {},
   "outputs": [
    {
     "data": {
      "text/plain": [
       "True"
      ]
     },
     "execution_count": 47,
     "metadata": {},
     "output_type": "execute_result"
    }
   ],
   "source": [
    "cv.imwrite(\"experiment_red3.jpg\", f.view_code(test_img, \"RED\", True, clf, X_test))"
   ]
  }
 ],
 "metadata": {
  "kernelspec": {
   "display_name": "Python 3",
   "language": "python",
   "name": "python3"
  },
  "language_info": {
   "codemirror_mode": {
    "name": "ipython",
    "version": 3
   },
   "file_extension": ".py",
   "mimetype": "text/x-python",
   "name": "python",
   "nbconvert_exporter": "python",
   "pygments_lexer": "ipython3",
   "version": "3.7.3"
  }
 },
 "nbformat": 4,
 "nbformat_minor": 4
}
